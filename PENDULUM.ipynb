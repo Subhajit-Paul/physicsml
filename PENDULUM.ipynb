{
 "cells": [
  {
   "cell_type": "markdown",
   "id": "44201a44-39af-4543-a9d2-fc13c515f25c",
   "metadata": {},
   "source": [
    "---\n",
    "\n",
    "## Big Picture: What the Code is Doing**\n",
    "\n",
    "This code is:\n",
    "\n",
    "1. Defining the *geometry* of the pendulum path (`x(theta), y(theta)`).\n",
    "2. Using **Lagrangian mechanics** to get the equations of motion.\n",
    "3. Numerically solving those equations with `odeint`.\n",
    "4. Converting the solution into a visual animation.\n",
    "\n",
    "The big advantage here is:\n",
    "\n",
    "> Instead of writing Newton’s force equations directly, we let the Lagrangian (`L = T - V`) generate the motion equations for us.\n",
    "\n",
    "This makes it **much easier** to generalize to more complicated systems — especially in higher dimensions.\n",
    "\n",
    "---"
   ]
  },
  {
   "cell_type": "code",
   "execution_count": 50,
   "id": "b4ecd129-9ff6-47e6-ad41-6ff029af7172",
   "metadata": {},
   "outputs": [],
   "source": [
    "import numpy as np\n",
    "from scipy.integrate import odeint\n",
    "import sympy as smp\n",
    "import matplotlib.pyplot as plt\n",
    "from matplotlib import animation\n",
    "from mpl_toolkits.mplot3d import Axes3D\n",
    "from matplotlib.animation import PillowWriter"
   ]
  },
  {
   "cell_type": "markdown",
   "id": "8c412ed9-3a55-4b4e-a090-26167d8f48e3",
   "metadata": {},
   "source": [
    "---\n",
    "\n",
    "### **Variables and Setup**\n",
    "\n",
    "```python\n",
    "t, m, g = smp.symbols('t m g')\n",
    "theta = smp.symbols(r'\\theta', cls=smp.Function)\n",
    "theta = theta(t)\n",
    "```\n",
    "\n",
    "* `t` = time, `m` = mass, `g` = gravity.\n",
    "* `theta(t)` is the generalized coordinate (angle in this case).\n",
    "* We treat `theta` as a **function of time**, so Sympy can take derivatives wrt `t`.\n",
    "\n",
    "---"
   ]
  },
  {
   "cell_type": "code",
   "execution_count": 51,
   "id": "35c74524-9e3c-49bb-a326-9cc1204cce0f",
   "metadata": {},
   "outputs": [],
   "source": [
    "t, m, g = smp.symbols('t m g')\n",
    "theta = smp.symbols(r'\\theta', cls=smp.Function)\n",
    "theta = theta(t)"
   ]
  },
  {
   "cell_type": "code",
   "execution_count": 52,
   "id": "63c53efa-76d4-472e-ba79-66c6205e5097",
   "metadata": {},
   "outputs": [],
   "source": [
    "d_theta  = smp.diff(theta, t)\n",
    "dd_theta = smp.diff(d_theta, t)"
   ]
  },
  {
   "cell_type": "code",
   "execution_count": 53,
   "id": "7ab68d5a-16ae-4bf0-b5a1-594698169f33",
   "metadata": {},
   "outputs": [],
   "source": [
    "x, y = smp.symbols('x y', cls=smp.Function)\n",
    "x, y = x(theta), y(theta)"
   ]
  },
  {
   "cell_type": "markdown",
   "id": "9402c38c-a1b5-46c6-876e-72d745334aff",
   "metadata": {},
   "source": [
    "---\n",
    "\n",
    "### **Parametrizing the Path**\n",
    "\n",
    "* This defines **how the mass moves in space** based on `theta`.\n",
    "* Here, you’re free to make the constraint curve *anything*: a parabola, a taut chain shape, etc.\n",
    "* This is powerful because the rest of the code **does not care** about the curve — it just uses these functions to compute energies.\n",
    "\n",
    "---"
   ]
  },
  {
   "cell_type": "code",
   "execution_count": 54,
   "id": "5669c766-754a-4977-b2a2-c39a8c0db715",
   "metadata": {},
   "outputs": [],
   "source": [
    "local = 'taut'\n",
    "if local == 'parabola':\n",
    "    x = theta\n",
    "    y = theta ** 2\n",
    "elif local == 'taut':\n",
    "    x = smp.sin(2 * theta) + 2 * theta\n",
    "    y = 1 - smp.cos(2 * theta)\n",
    "x_func = smp.lambdify(theta, x)\n",
    "y_func = smp.lambdify(theta, y)"
   ]
  },
  {
   "cell_type": "markdown",
   "id": "e04dcdce-74ae-4e15-babc-4aa128cbc26c",
   "metadata": {},
   "source": [
    "---\n",
    "\n",
    "### **Kinetic & Potential Energy**\n",
    "* **T**: Kinetic energy = $\\frac{1}{2} m (v_x^2 + v_y^2)$ —\n",
    "  where $v_x, v_y$ are computed via the chain rule:\n",
    "  $v_x = \\frac{dx}{d\\theta} \\cdot \\frac{d\\theta}{dt}$\n",
    "* **V**: Potential energy = $m g y$ (assuming y is vertical height).\n",
    "* **L**: Lagrangian = $T - V$.\n",
    "\n",
    "This is *the* Lagrangian mechanics approach:\n",
    "We don’t directly write $F = ma$, we use $L = T - V$ to get the motion.\n",
    "\n",
    "---"
   ]
  },
  {
   "cell_type": "code",
   "execution_count": 55,
   "id": "a7446e91-53fc-489c-b9b6-ef07a6251bf9",
   "metadata": {},
   "outputs": [],
   "source": [
    "T = 0.5 * m * (smp.diff(x, t)**2 + smp.diff(y, t)**2)\n",
    "V = m * g * y\n",
    "L = T - V"
   ]
  },
  {
   "cell_type": "markdown",
   "id": "5304b403-d589-4fa6-990e-8e20d740bd3d",
   "metadata": {},
   "source": [
    "---\n",
    "\n",
    "## **What is Lagrangian Mechanics?**\n",
    "\n",
    "### **The Short Story**\n",
    "\n",
    "Lagrangian mechanics is a way of describing how physical systems evolve over time using **energies** instead of **forces**.\n",
    "\n",
    "Instead of saying:\n",
    "\n",
    "$$\n",
    "F = ma\n",
    "$$\n",
    "\n",
    "we say:\n",
    "\n",
    "$$\n",
    "L = T - V\n",
    "$$\n",
    "\n",
    "where:\n",
    "\n",
    "* $T$ = kinetic energy\n",
    "* $V$ = potential energy\n",
    "\n",
    "and then apply **Lagrange’s equation**:\n",
    "\n",
    "$$\n",
    "\\frac{\\partial L}{\\partial q} - \\frac{d}{dt}\\left( \\frac{\\partial L}{\\partial \\dot{q}} \\right) = 0\n",
    "$$\n",
    "\n",
    "Here:\n",
    "\n",
    "* $q$ is a *generalized coordinate* (could be an angle, a distance along a curve, etc.).\n",
    "* $\\dot{q}$ is its time derivative.\n",
    "\n",
    "---\n",
    "\n",
    "### **Why This Is Powerful**\n",
    "\n",
    "* You **don’t** have to write down every force vector and resolve them into components.\n",
    "* You can use *any coordinate system* (angles, curvy paths, arc lengths, etc.).\n",
    "* The math automatically respects **constraints** (like a bead sliding on a wire, or a pendulum constrained to a circle).\n",
    "\n",
    "For example:\n",
    "\n",
    "* A pendulum’s bob moves in a circle — that’s a **constraint**.\n",
    "* In Newton’s $F=ma$, you’d have to deal with the tension force, resolve it into radial/tangential components, and eliminate the radial motion by hand.\n",
    "* In Lagrangian mechanics, you skip all that: you just say “The bob moves along this path” and let the Lagrangian formalism take care of the constraint for you.\n",
    "\n",
    "---\n",
    "\n",
    "### **Lagrange’s Equation**\n",
    "\n",
    "The standard Lagrange equation is:\n",
    "\n",
    "$$\n",
    "\\frac{\\partial L}{\\partial \\theta} - \\frac{d}{dt} \\frac{\\partial L}{\\partial \\dot{\\theta}} = 0\n",
    "$$\n",
    "\n",
    "Your code rearranges this to find $\\ddot{\\theta}$ in terms of $\\theta$ and $\\dot{\\theta}$.\n",
    "\n",
    "---"
   ]
  },
  {
   "cell_type": "code",
   "execution_count": 56,
   "id": "046b0006-6b52-4852-a6f2-022525157722",
   "metadata": {},
   "outputs": [],
   "source": [
    "LEQ = smp.diff(L, theta) - smp.diff(smp.diff(L, d_theta), t)"
   ]
  },
  {
   "cell_type": "code",
   "execution_count": 58,
   "id": "2b4167d3-6371-4fa7-9755-39cf1e117584",
   "metadata": {},
   "outputs": [],
   "source": [
    "second_d = smp.solve(LEQ, dd_theta)[0]\n",
    "first_d = d_theta\n",
    "second_d_func = smp.lambdify((g, theta, d_theta), second_d)\n",
    "first_d_func = smp.lambdify(d_theta, d_theta)"
   ]
  },
  {
   "cell_type": "markdown",
   "id": "2ea29af3-9a6d-48c2-b2a0-5b2baba196fc",
   "metadata": {},
   "source": [
    "---\n",
    "\n",
    "`dSdt` is the **heart of the numerical simulation** — it’s the “time derivative function” that the numerical integrator (`odeint`) uses to march the solution forward.\n",
    "\n",
    "---\n",
    "\n",
    "## **What `dSdt` Represents**\n",
    "\n",
    "In the code:\n",
    "\n",
    "```python\n",
    "def dSdt(S, t):\n",
    "    return [\n",
    "        first_d_func(S[1]),                 # d(theta)/dt = angular velocity\n",
    "        second_d_func(g, S[0], S[1])        # d^2(theta)/dt^2 = angular acceleration\n",
    "    ]\n",
    "```\n",
    "\n",
    "* `S` is the **state vector**:\n",
    "\n",
    "  $$\n",
    "  S[0] = \\theta(t) \\quad \\text{(position)}\n",
    "  $$\n",
    "\n",
    "  $$\n",
    "  S[1] = \\dot{\\theta}(t) \\quad \\text{(velocity)}\n",
    "  $$\n",
    "* `dSdt(S, t)` returns the **derivative of the state vector**:\n",
    "\n",
    "  $$\n",
    "  \\frac{d}{dt}S =\n",
    "  \\begin{bmatrix}\n",
    "  \\dot{\\theta} \\\\ \\ddot{\\theta}\n",
    "  \\end{bmatrix}\n",
    "  $$\n",
    "* This is exactly the form `odeint` (and most ODE solvers) require:\n",
    "\n",
    "  $$\n",
    "  \\frac{d\\mathbf{S}}{dt} = f(\\mathbf{S}, t)\n",
    "  $$\n",
    "\n",
    "---\n",
    "\n",
    "## **Why We Need It**\n",
    "\n",
    "`odeint` does **not** magically know how the pendulum moves — it just knows how to numerically integrate:\n",
    "\n",
    "* Give it a current state $S(t)$\n",
    "* It calls the `dSdt` function to find the derivative\n",
    "* It then takes a small time step to $S(t+\\Delta t)$\n",
    "* Repeats until the whole trajectory is computed.\n",
    "\n",
    "If `dSdt` is wrong or missing, the integrator has nothing to work with.\n",
    "\n",
    "Think of `dSdt` as the **“physics engine” interface**:\n",
    "We write the laws of motion, and the integrator takes care of solving them over time.\n",
    "\n",
    "---\n",
    "### **Numerical Solver Setup**\n",
    "\n",
    "Here:\n",
    "\n",
    "* `S[0] = theta`\n",
    "* `S[1] = d_theta/dt`\n",
    "* The system is rewritten as a **first-order system** for `odeint`.\n",
    "\n",
    "---"
   ]
  },
  {
   "cell_type": "code",
   "execution_count": 59,
   "id": "93be2a29-8ccd-42fd-97d4-3d7e179e1231",
   "metadata": {},
   "outputs": [],
   "source": [
    "def dSdt(S, t):\n",
    "    return [\n",
    "        first_d_func(S[1]), second_d_func(g, S[0], S[1])\n",
    "    ]"
   ]
  },
  {
   "cell_type": "markdown",
   "id": "9998b4e6-2142-42f8-9e03-06e911195bb2",
   "metadata": {},
   "source": [
    "---\n",
    "### **Solving**\n",
    "\n",
    "* `odeint` numerically integrates the equations of motion.\n",
    "* The result is the time evolution of `theta` and `d_theta/dt`.\n",
    "\n",
    "---"
   ]
  },
  {
   "cell_type": "code",
   "execution_count": 60,
   "id": "fd01c3ee-e377-4f8c-99ff-6aa554ea9d03",
   "metadata": {},
   "outputs": [],
   "source": [
    "t = np.linspace(0, 20, 1000)\n",
    "g = 9.81\n",
    "\n",
    "if local == 'parabola':\n",
    "    answer = odeint(dSdt, y0 = [2, 0], t = t)\n",
    "elif local == 'taut':\n",
    "    answer = odeint(dSdt, y0 = [np.pi/4, 0], t = t)"
   ]
  },
  {
   "cell_type": "code",
   "execution_count": 62,
   "id": "b6be2698-26fd-459a-91dd-31bee39668c5",
   "metadata": {},
   "outputs": [],
   "source": [
    "def get_xy(theta):\n",
    "    return x_func(theta), y_func(theta)"
   ]
  },
  {
   "cell_type": "markdown",
   "id": "d1c45cd8-6257-4fae-834c-6a1ccdcf3fb3",
   "metadata": {},
   "source": [
    "---\n",
    "### **Converting Back to x, y**\n",
    "\n",
    "Since we solved for `theta(t)`, we can plug it into the earlier `x(theta)` and `y(theta)` to get actual coordinates.\n",
    "\n",
    "---"
   ]
  },
  {
   "cell_type": "code",
   "execution_count": 63,
   "id": "a87555d6-ca74-411d-9785-d5e5726a0854",
   "metadata": {},
   "outputs": [],
   "source": [
    "x, y = get_xy(answer.T[0])"
   ]
  },
  {
   "cell_type": "code",
   "execution_count": 64,
   "id": "75435451-372b-4dcf-9077-f8c42e8e118a",
   "metadata": {},
   "outputs": [
    {
     "data": {
      "image/png": "[encoded data removed]",
      "text/plain": [
       "<Figure size 640x480 with 1 Axes>"
      ]
     },
     "metadata": {},
     "output_type": "display_data"
    }
   ],
   "source": [
    "def animate(i):\n",
    "    ln.set_data([x[i]], [y[i]])\n",
    "\n",
    "fig, ax = plt.subplots()\n",
    "\n",
    "ax.grid(True, linestyle='--', alpha=0.6)\n",
    "ln, = plt.plot([], [], 'ro', label='Pendulum Position')\n",
    "\n",
    "ax.set_title('Pendulum Motion Simulation', fontsize=16, fontweight='bold')\n",
    "ax.set_xlabel('Horizontal Position (m)', fontsize=12)\n",
    "ax.set_ylabel('Vertical Position (m)', fontsize=12)\n",
    "\n",
    "ax.set_xlim(-2.5, 2.5)\n",
    "ax.set_ylim(-1, 5)\n",
    "\n",
    "ax.legend(loc='upper right')\n",
    "\n",
    "ani = animation.FuncAnimation(fig, animate, frames = 1000, interval = 50)\n",
    "ani.save(f'PENDULUM_{local}.gif', writer='pillow', fps = 50)"
   ]
  },
  {
   "cell_type": "markdown",
   "id": "0674f3c9-94d3-4465-b558-662a09b21ce3",
   "metadata": {},
   "source": [
    "---\n",
    "## **Different Mechanics**\n",
    "\n",
    "Lagrangian mechanics is not the only way.\n",
    "\n",
    "### **(a) Newton’s Laws (Force-Based)**\n",
    "\n",
    "$$\n",
    "\\mathbf{F} = m \\mathbf{a}\n",
    "$$\n",
    "\n",
    "* You write force vectors for each object.\n",
    "* Resolve into components in your chosen coordinates.\n",
    "* Include constraint forces (e.g., tension).\n",
    "* Good for simple systems in Cartesian coordinates.\n",
    "* **Downside:** Becomes messy with constraints and non-Cartesian coordinates.\n",
    "\n",
    "---\n",
    "\n",
    "### **(b) Hamiltonian Mechanics**\n",
    "\n",
    "* Starts from $H = T + V$ (total energy) and uses **canonical coordinates** $(q, p)$ (generalized position & momentum).\n",
    "* Produces **first-order** equations instead of second-order ones.\n",
    "* Useful in advanced physics (quantum mechanics, statistical mechanics).\n",
    "* Often overkill for basic simulations unless you need its special properties.\n",
    "\n",
    "---\n",
    "\n",
    "### **(c) Direct Constraint Approach**\n",
    "\n",
    "* Write down acceleration purely from geometry (using polar coords, rotation matrices, etc.).\n",
    "* Example: For a pendulum, you can write:\n",
    "\n",
    "  $$\n",
    "  \\ddot{\\theta} = -\\frac{g}{L} \\sin\\theta\n",
    "  $$\n",
    "\n",
    "  directly from Newton’s laws.\n",
    "* This is fast, but **not general** — you have to re-derive for every new geometry.\n",
    "\n",
    "---\n",
    "\n",
    "### **(d) Numerical-Only “Black Box”**\n",
    "\n",
    "* Skip analytical derivation; numerically approximate derivatives from the geometry + forces.\n",
    "* Example: Verlet integration in game physics engines.\n",
    "* **Upside:** Quick for prototyping.\n",
    "* **Downside:** Less precise, less insight into actual physics.\n",
    "\n",
    "---\n",
    "\n",
    "| Method              | Works well for                          | Pain points                           |\n",
    "| ------------------- | --------------------------------------- | ------------------------------------- |\n",
    "| **Newton’s laws**   | Few bodies, simple forces               | Hard with constraints or curvy coords |\n",
    "| **Lagrangian**      | Arbitrary coords, constrained systems   | Needs $T, V$ (energy forms)           |\n",
    "| **Hamiltonian**     | Energy conservation, symplectic methods | Abstract, more math overhead          |\n",
    "| **Direct geometry** | Simple systems with known formula       | Not generalizable                     |\n",
    "| **Numerical-only**  | Games, approximate sims                 | Less physically rigorous              |\n",
    "\n",
    "---\n"
   ]
  }
 ],
 "metadata": {
  "kernelspec": {
   "display_name": "Python 3 (ipykernel)",
   "language": "python",
   "name": "python3"
  },
  "language_info": {
   "codemirror_mode": {
    "name": "ipython",
    "version": 3
   },
   "file_extension": ".py",
   "mimetype": "text/x-python",
   "name": "python",
   "nbconvert_exporter": "python",
   "pygments_lexer": "ipython3",
   "version": "3.13.5"
  }
 },
 "nbformat": 4,
 "nbformat_minor": 5
}
